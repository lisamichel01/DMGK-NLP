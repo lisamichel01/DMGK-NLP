{
 "cells": [
  {
   "cell_type": "markdown",
   "id": "91efbf93",
   "metadata": {},
   "source": [
    "# Basic Text Processing with Python\n",
    "\n",
    "*Some content is adapated from [Tuomo Hiipala'](https://www.mv.helsinki.fi/home/thiippal/) lectures"
   ]
  },
  {
   "cell_type": "markdown",
   "id": "c68e81aa",
   "metadata": {},
   "source": [
    "### 1. Text formats\n",
    "\n",
    "\n",
    "#### What is rich text?\n",
    "\n",
    "Word processors, such as Microsoft Word, produce [rich text](https://en.wikipedia.org/wiki/Formatted_text), that is, text whose appearance has been formatted or styled in a specific way.\n",
    "Rich text allows defining specific visual styles for document elements. Headers, for example, may use a different font than the body text, which may in turn feature *italic* or **bold** fonts for emphasis. Rich text can also include various types of images, tables and other document elements.\n",
    "Rich text is the default format for modern what-you-see-is-what-you-get word processors.\n",
    "\n",
    "#### What is plain text?\n",
    "\n",
    "Unlike rich text, [plain text](https://en.wikipedia.org/wiki/Plain_text) does not contain any information about the visual appearance of text, but consists of *characters* only.\n",
    "Characters, in this context, refers to letters, numbers, punctuation marks, spaces and line breaks.\n",
    "The definition of plain text is fairly loose, but generally the term refers to text which lacks any formatting or style information.\n",
    "\n",
    "\n",
    "#### What is structured text?\n",
    "\n",
    "Structured text may be thought of as a special case of plain text, which includes character sequences that are used to format the text for display.\n",
    "Forms of structured text include text described using mark-up languages such as XML, Markdown or HTML.  \n",
    "The example below shows a plain text sentence wrapped into HTML tags for paragraphs `<p>`. \n",
    "The opening tag `<p>` and the closing tag `</p>` instruct the computer that any content placed between these tags form a paragraph.\n",
    "\n",
    "``` \n",
    "<p>This is an example sentence.</p>\n",
    "```\n",
    "\n",
    "This information is used for structuring plain text when *rendering* text for display, typically by styling its appearance.\n",
    "\n",
    "#### Why does this matter?\n",
    "\n",
    "If you collect a bunch of texts for a corpus, chances are that some originated in rich or structured format, depending on the medium these texts came from.\n",
    "\n",
    "If you collect printed documents that have been digitized using a technique such as [optical character recognition](https://en.wikipedia.org/wiki/Optical_character_recognition) (OCR) and subsequently converted from rich into plain text, the removal of formatting information is likely to introduce errors into the resulting plain text. Working with this kind of \"dirty\" OCR can have an impact on the results of text analysis (Hill & Hengchen [2019](https://doi.org/10.1093/llc/fqz024)).\n",
    "\n",
    "If you collect digital documents by scraping discussion forums or websites, you are likely to encounter traces of structured text in the form of markup tags, which may be carried over to plain text during conversion.\n",
    "\n",
    "Plain text is by far the most interchangeable format for text, as it is easy to read for computers. This is why programming languages work with plain text, and if you plan to use programming languages to manipulate text, you need to know what plain text is. \n",
    "\n",
    "To summarise, when working with plain text, you may need to deal with traces left by conversion from rich or structured text."
   ]
  },
  {
   "cell_type": "markdown",
   "id": "c9c4b9eb",
   "metadata": {},
   "source": [
    "### 2. Reading documents  \n",
    "\n",
    "Built-in method [open()](https://docs.python.org/3/library/functions.html#open)"
   ]
  },
  {
   "cell_type": "code",
   "execution_count": null,
   "id": "1f13df58",
   "metadata": {},
   "outputs": [],
   "source": [
    "# reading the whole document at once as a single string\n",
    "with open('data/treaty_of_lisbon.txt', 'r', encoding='UTF-8') as f:\n",
    "    text = f.read()\n",
    "print(len(text))"
   ]
  },
  {
   "cell_type": "code",
   "execution_count": null,
   "id": "c38b8b6a",
   "metadata": {},
   "outputs": [],
   "source": [
    "print(text)"
   ]
  },
  {
   "cell_type": "code",
   "execution_count": null,
   "id": "baed61a8",
   "metadata": {},
   "outputs": [],
   "source": [
    "# reading the whole document at once as a list in which the elements are each line\n",
    "with open('data/treaty_of_lisbon.txt', 'r', encoding='UTF-8') as f:\n",
    "    text = f.readlines()\n",
    "print(len(text))"
   ]
  },
  {
   "cell_type": "code",
   "execution_count": null,
   "id": "46fe9f04",
   "metadata": {},
   "outputs": [],
   "source": [
    "print(text)"
   ]
  },
  {
   "cell_type": "code",
   "execution_count": null,
   "id": "d49888b8",
   "metadata": {},
   "outputs": [],
   "source": [
    "# if the document is too large, or for whatever other reason, we can read the file\n",
    "# line by line\n",
    "with open('data/treaty_of_lisbon.txt', 'r', encoding='UTF-8') as f:\n",
    "    for line in f:\n",
    "        print(line)"
   ]
  },
  {
   "cell_type": "code",
   "execution_count": null,
   "id": "52937088",
   "metadata": {},
   "outputs": [],
   "source": [
    "# what is happening there?\n",
    "testlist = []\n",
    "with open('data/treaty_of_lisbon.txt', 'r', encoding='UTF-8') as f:\n",
    "    for line in f:\n",
    "        testlist.append(line)\n",
    "print(testlist)"
   ]
  },
  {
   "cell_type": "markdown",
   "id": "9228cb9a",
   "metadata": {},
   "source": [
    "### 3. Manipulating strings  \n",
    "Several built-in [string methods](https://docs.python.org/3/library/stdtypes.html#string-methods)  \n",
    "Here, we give just a few examples."
   ]
  },
  {
   "cell_type": "code",
   "execution_count": null,
   "id": "af0513db",
   "metadata": {},
   "outputs": [],
   "source": [
    "# the function `print` always add a new line `\\n` at the end. Then we have `\\n` twice, from the text and\n",
    "# the function. Let's get rid of one f them with `.strip('\\n')`\n",
    "\n",
    "with open('data/treaty_of_lisbon.txt', 'r', encoding='UTF-8') as f:\n",
    "    for line in f:\n",
    "        print(line.strip('\\n'))"
   ]
  },
  {
   "cell_type": "code",
   "execution_count": null,
   "id": "0b4f5e10",
   "metadata": {},
   "outputs": [],
   "source": [
    "# what does `strip()` do?\n",
    "print(' what does strip do? ')\n",
    "print(len(' what does strip do? '))\n",
    "\n",
    "print(' what does strip do? '.strip())\n",
    "print(len(' what does strip do? '.strip()))"
   ]
  },
  {
   "cell_type": "code",
   "execution_count": null,
   "id": "2456a939",
   "metadata": {},
   "outputs": [],
   "source": [
    "# another useful method method is `replace()`\n",
    "with open('data/treaty_of_lisbon.txt', 'r', encoding='UTF-8') as f:\n",
    "    first_line = f.readline()\n",
    "    \n",
    "print(first_line.strip('\\n'))\n",
    "print(first_line.replace('EUROPEAN','GLOBAL').replace('\\n',''))"
   ]
  },
  {
   "cell_type": "code",
   "execution_count": null,
   "id": "36ac3d7c",
   "metadata": {},
   "outputs": [],
   "source": [
    "# now, `split()`\n",
    "print(first_line.split('AND'))"
   ]
  },
  {
   "cell_type": "code",
   "execution_count": null,
   "id": "bc1db2d6",
   "metadata": {},
   "outputs": [],
   "source": [
    "# common mistake to delete the trailing spaces\n",
    "print(first_line.split('AND').strip())"
   ]
  },
  {
   "cell_type": "code",
   "execution_count": null,
   "id": "e1cb77ba",
   "metadata": {},
   "outputs": [],
   "source": [
    "print([el.strip() for el in first_line.split('AND')])"
   ]
  },
  {
   "cell_type": "code",
   "execution_count": null,
   "id": "bfd3aaa7",
   "metadata": {},
   "outputs": [],
   "source": [
    "# another one: `lower()`\n",
    "print([el.strip().lower() for el in first_line.split('AND')])"
   ]
  },
  {
   "cell_type": "code",
   "execution_count": null,
   "id": "de36b1ec",
   "metadata": {},
   "outputs": [],
   "source": [
    "# and `upper()`\n",
    "print('amendments to the treaty on european union'.upper())"
   ]
  },
  {
   "cell_type": "code",
   "execution_count": null,
   "id": "73f17de9",
   "metadata": {},
   "outputs": [],
   "source": [
    "# in which position does a word start?\n",
    "print('AMENDMENTS-TO-THE TREATY ON EUROPEAN UNION'.find('-'))"
   ]
  },
  {
   "cell_type": "code",
   "execution_count": null,
   "id": "d84c6a7b",
   "metadata": {},
   "outputs": [],
   "source": [
    "print('AMENDMENTS-TO-THE TREATY ON EUROPEAN UNION'.replace('-',' '))\n",
    "print('AMENDMENTS-TO-THE TREATY ON EUROPEAN UNION'.split('-'))\n",
    "print('AMENDMENTS-TO-THE TREATY ON EUROPEAN UNION'[:10])"
   ]
  },
  {
   "cell_type": "markdown",
   "id": "b9dbf121",
   "metadata": {},
   "source": [
    "### 4. Writing plain text to a file"
   ]
  },
  {
   "cell_type": "code",
   "execution_count": null,
   "id": "c3e3f371",
   "metadata": {},
   "outputs": [],
   "source": [
    "with open('data/treaty_of_lisbon_my_version.txt', 'w', encoding='UTF-8') as g:\n",
    "    g.write('You can write here whatever you want')"
   ]
  },
  {
   "cell_type": "markdown",
   "id": "fc1df35d",
   "metadata": {},
   "source": [
    "### 5. Regular Expressions  \n",
    "Library [re](https://docs.python.org/3/library/re.html)  \n",
    "Testing your regular expressions with [Regex101](https://regex101.com/)  \n",
    "\n",
    "*Text extracted from [python.org](https://docs.python.org/3/howto/regex.html)*  \n",
    "Regular expressions (called REs, or regexes, or regex patterns) are essentially a tiny, highly specialized programming language embedded inside Python and made available through the `re` module. Using this little language, you specify the rules for the set of possible strings that you want to match; this set might contain English sentences, or e-mail addresses, or TeX commands, or anything you like. You can then ask questions such as “Does this string match the pattern?”, or “Is there a match for the pattern anywhere in this string?”. You can also use REs to modify a string or to split it apart in various ways.  \n",
    "\n",
    "#### Matching Characters\n",
    "Most letters and characters will simply match themselves. For example, the regular expression `test` will match the string `test` exactly. (You can enable a case-insensitive mode that would let this RE match `Test` or `TEST` as well.)\n",
    "\n",
    "There are exceptions to this rule; some characters are special metacharacters, and don’t match themselves. Instead, they signal that some out-of-the-ordinary thing should be matched, or they affect other portions of the RE by repeating them or changing their meaning.\n",
    "\n",
    "Here’s a complete list of the metacharacters:  \n",
    "    `. ^ $ * + ? { } [ ] \\ | ( ) `\n",
    "    \n",
    "And a summary:  \n",
    "\n",
    "![](data/regex_summary.jpg \"Regex\")"
   ]
  },
  {
   "cell_type": "code",
   "execution_count": null,
   "id": "d8dc48db",
   "metadata": {},
   "outputs": [],
   "source": [
    "# let's try\n",
    "import re\n",
    "\n",
    "text = 'I would like to extract a phone number, for instance, this +49 178 666-6666. Another example \\\n",
    "        is +55 123 4444-5555'\n",
    "pattern = r\"\\+\\d{2}\\s\\d{3}\\s\\d{3,4}[-]\\d{4}\"\n",
    "\n",
    "matches = re.findall(pattern, text)\n",
    "print (matches)"
   ]
  },
  {
   "cell_type": "markdown",
   "id": "b2badb06",
   "metadata": {},
   "source": [
    "### Exercises"
   ]
  },
  {
   "cell_type": "markdown",
   "id": "13ce6d3d",
   "metadata": {},
   "source": [
    "1. Delete `www` at the end of `www.someurl.comwww` using a `strip` method\n",
    "2. Read the content of line with `The Treaty on European Union shall be amended in accordance with the provisions of this Article.` to a variable and write `Global` in place of `European`\n",
    "3. Find all words with five characters in the text\n",
    "4. Write the treat in a new file using `Global` instead of `European`"
   ]
  },
  {
   "cell_type": "markdown",
   "id": "de35f4c3",
   "metadata": {},
   "source": [
    "### Solutions"
   ]
  },
  {
   "cell_type": "code",
   "execution_count": null,
   "id": "f4820b11",
   "metadata": {},
   "outputs": [],
   "source": [
    "# using strip\n",
    "print('www.someurl.comwww'.rstrip('w'))"
   ]
  },
  {
   "cell_type": "code",
   "execution_count": null,
   "id": "3c0261a7",
   "metadata": {},
   "outputs": [],
   "source": [
    "with open('data/treaty_of_lisbon.txt', 'r', encoding='UTF-8') as f:\n",
    "    for line in f:\n",
    "        if line.strip('\\n') == 'The Treaty on European Union shall' + \\\n",
    "                                ' be amended in accordance with the provisions of this Article.':\n",
    "            found = line.strip('\\n')\n",
    "            print(found.replace('European','Global'))"
   ]
  },
  {
   "cell_type": "code",
   "execution_count": null,
   "id": "2bc6ca37",
   "metadata": {},
   "outputs": [],
   "source": [
    "# finding with regular expressions\n",
    "\n",
    "import re\n",
    "with open('data/treaty_of_lisbon.txt', 'r', encoding='UTF-8') as f:\n",
    "    text = f.read()\n",
    "print(set(re.findall(r\"\\b\\w{5}\\b\", text)))"
   ]
  },
  {
   "cell_type": "code",
   "execution_count": null,
   "id": "e5564784",
   "metadata": {},
   "outputs": [],
   "source": [
    "# writing a new file\n",
    "\n",
    "with open('data/treaty_of_lisbon_global.txt', 'w', encoding='UTF-8') as g:\n",
    "\n",
    "    with open('data/treaty_of_lisbon.txt', 'r', encoding='UTF-8') as f:\n",
    "        \n",
    "        for line in f:\n",
    "            g.write(line.replace('European','Global').replace('EUROPEAN','GLOBAL'))"
   ]
  },
  {
   "cell_type": "code",
   "execution_count": null,
   "id": "70ff67b0",
   "metadata": {},
   "outputs": [],
   "source": [
    "with open('data/treaty_of_lisbon_global.txt', 'r', encoding='UTF-8') as f:\n",
    "    text = f.read()\n",
    "print(text)"
   ]
  },
  {
   "cell_type": "code",
   "execution_count": null,
   "id": "c3df557f",
   "metadata": {},
   "outputs": [],
   "source": []
  }
 ],
 "metadata": {
  "kernelspec": {
   "display_name": "Python 3",
   "language": "python",
   "name": "python3"
  },
  "language_info": {
   "codemirror_mode": {
    "name": "ipython",
    "version": 3
   },
   "file_extension": ".py",
   "mimetype": "text/x-python",
   "name": "python",
   "nbconvert_exporter": "python",
   "pygments_lexer": "ipython3",
   "version": "3.7.5"
  }
 },
 "nbformat": 4,
 "nbformat_minor": 5
}
