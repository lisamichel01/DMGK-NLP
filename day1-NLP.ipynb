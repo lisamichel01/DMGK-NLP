{
 "cells": [
  {
   "cell_type": "code",
   "execution_count": 7,
   "id": "cfffb166",
   "metadata": {},
   "outputs": [
    {
     "name": "stdout",
     "output_type": "stream",
     "text": [
      "ih\n"
     ]
    }
   ],
   "source": [
    "def reverse(string):\n",
    "    x = string [::-1]\n",
    "    return x\n",
    "    \n",
    "result = reverse(\"hi\")\n",
    "print(result)   "
   ]
  },
  {
   "cell_type": "code",
   "execution_count": 13,
   "id": "d0a6a316",
   "metadata": {},
   "outputs": [
    {
     "name": "stdout",
     "output_type": "stream",
     "text": [
      "2\n"
     ]
    }
   ],
   "source": [
    "def count_upper_case_lower_case(string):\n",
    "    count_upper=0\n",
    "    count_lower=0\n",
    "    for x in string:\n",
    "        if x.isupper():\n",
    "            count_upper += 1\n",
    "    return count_upper\n",
    "    for y in string:\n",
    "        if y.islower():\n",
    "            count_lower += 1\n",
    "    return count_lower\n",
    "    \n",
    "\n",
    "result = count_upper_case_lower_case(\"aSdFg\")\n",
    "print(result)"
   ]
  },
  {
   "cell_type": "code",
   "execution_count": 16,
   "id": "86c95b5f",
   "metadata": {},
   "outputs": [
    {
     "name": "stdout",
     "output_type": "stream",
     "text": [
      "It's a palindrome\n"
     ]
    }
   ],
   "source": [
    "def check_palindrome(string):\n",
    "    if string == reverse(string):\n",
    "        return(\"It's a palindrome\")\n",
    "    else:\n",
    "        return(\"It's not a palindrome\")\n",
    "    \n",
    "result = check_palindrome(\"otto\")\n",
    "print(result)"
   ]
  },
  {
   "cell_type": "code",
   "execution_count": 21,
   "id": "73da02df",
   "metadata": {},
   "outputs": [
    {
     "name": "stdout",
     "output_type": "stream",
     "text": [
      "None\n"
     ]
    }
   ],
   "source": [
    "def sort_hyphenated_word_list(string):\n",
    "    x = string.split(\"-\")\n",
    "    x = x.sort()\n",
    "    return x\n",
    "\n",
    "result = sort_hyphenated_word_list(\"asdf-hjkl-aer\")\n",
    "print(result)"
   ]
  },
  {
   "cell_type": "code",
   "execution_count": null,
   "id": "7e4fddbc",
   "metadata": {},
   "outputs": [],
   "source": []
  }
 ],
 "metadata": {
  "kernelspec": {
   "display_name": "Python 3 (ipykernel)",
   "language": "python",
   "name": "python3"
  },
  "language_info": {
   "codemirror_mode": {
    "name": "ipython",
    "version": 3
   },
   "file_extension": ".py",
   "mimetype": "text/x-python",
   "name": "python",
   "nbconvert_exporter": "python",
   "pygments_lexer": "ipython3",
   "version": "3.9.13"
  }
 },
 "nbformat": 4,
 "nbformat_minor": 5
}
